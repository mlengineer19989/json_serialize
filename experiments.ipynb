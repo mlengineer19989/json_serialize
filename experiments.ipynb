{
 "cells": [
  {
   "cell_type": "code",
   "execution_count": 1,
   "metadata": {},
   "outputs": [],
   "source": [
    "from dataclasses import dataclass\n",
    "import json_util as ju\n",
    "\n",
    "\n",
    "@dataclass\n",
    "class Param(ju.JsonSerializable):\n",
    "    attack:int\n",
    "    defense:int\n",
    "\n",
    "@dataclass\n",
    "class Person(ju.JsonSerializable):\n",
    "    age:int\n",
    "    sex:str\n",
    "    param:Param\n",
    "\n",
    "@dataclass\n",
    "class Family(ju.JsonSerializable):\n",
    "    father:Person\n",
    "    mather:Person\n",
    "\n",
    "fam = Family(father=Person(age=35,\n",
    "                            sex=\"male\",\n",
    "                            param=Param(attack=100, defense=70)), \n",
    "            mather=Person(age=30,\n",
    "                          sex=\"female\",\n",
    "                          param=Param(attack=60, defense=100)))\n",
    "\n",
    "data = {\"1\":1,\n",
    "        \"2\":\"two\",\n",
    "        \"3\":fam}\n",
    "\n",
    "ju.dump(data=data, file_path=\"test.json\")\n"
   ]
  },
  {
   "cell_type": "code",
   "execution_count": 2,
   "metadata": {},
   "outputs": [],
   "source": [
    "data = ju.load(file_path=\"test.json\", globals_dict=globals())"
   ]
  },
  {
   "cell_type": "code",
   "execution_count": 3,
   "metadata": {},
   "outputs": [
    {
     "data": {
      "text/plain": [
       "{'1': 1,\n",
       " '2': 'two',\n",
       " '3': Family(father=Person(age=35, sex='male', param=Param(attack=100, defense=70)), mather=Person(age=30, sex='female', param=Param(attack=60, defense=100)))}"
      ]
     },
     "execution_count": 3,
     "metadata": {},
     "output_type": "execute_result"
    }
   ],
   "source": [
    "data"
   ]
  }
 ],
 "metadata": {
  "kernelspec": {
   "display_name": "base",
   "language": "python",
   "name": "python3"
  },
  "language_info": {
   "codemirror_mode": {
    "name": "ipython",
    "version": 3
   },
   "file_extension": ".py",
   "mimetype": "text/x-python",
   "name": "python",
   "nbconvert_exporter": "python",
   "pygments_lexer": "ipython3",
   "version": "3.9.12 (main, Apr  5 2022, 01:52:34) \n[Clang 12.0.0 ]"
  },
  "orig_nbformat": 4,
  "vscode": {
   "interpreter": {
    "hash": "a63926c9a302ca5956f795205930968a4e9edac1b6deb598a23b2480d5833f8f"
   }
  }
 },
 "nbformat": 4,
 "nbformat_minor": 2
}
